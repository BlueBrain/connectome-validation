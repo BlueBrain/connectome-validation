{
 "cells": [
  {
   "cell_type": "markdown",
   "metadata": {},
   "source": [
    "# Configuration.\n",
    "Enter the paths to the file containting the validation data and the path to the builderConnectivityRecipeAllPathways.xml used.\n",
    "\n",
    "The validation data is obtained using the \"validate_bouton_density.py\" or \"validate_syns_con.py\" scripts.\n",
    "Please also specify the modality of the validation data: \"syns_con\" or \"bouton_density\""
   ]
  },
  {
   "cell_type": "code",
   "execution_count": 1,
   "metadata": {},
   "outputs": [],
   "source": [
    "fn = \"/home/reimann/Documents/data/SSCX/validation/Bio_0/post-adjustment1/syns_con_central_column.csv\"\n",
    "fn_recipe = \"/home/reimann/Documents/data/SSCX/validation/Bio_0/post-adjustment1/builderConnectivityRecipeAllPathways.xml\"\n",
    "data_modality = \"syns_con\"\n",
    "#data_modality = \"bouton_density\"\n"
   ]
  },
  {
   "cell_type": "markdown",
   "metadata": {},
   "source": [
    "Here, we configure some things that differ depending on the modality of the data."
   ]
  },
  {
   "cell_type": "code",
   "execution_count": 2,
   "metadata": {},
   "outputs": [],
   "source": [
    "if data_modality == \"syns_con\":\n",
    "    lo_key = \"from\"\n",
    "    recipe_set_key = \"mean_syns_connection\"\n",
    "    min_val = 1.0\n",
    "    max_val = 1E20\n",
    "elif data_modality == \"bouton_density\":\n",
    "    lo_key = \"mtype\"\n",
    "    recipe_set_key = \"bouton_reduction_factor\"\n",
    "    min_val = 0.0\n",
    "    max_val = 1.0"
   ]
  },
  {
   "cell_type": "markdown",
   "metadata": {},
   "source": [
    "# Read data\n",
    "We import required packages and read in the data.\n",
    "We also define a convenience function that determines if an m-type is excitatory or inhibitory. \n",
    "This serves plotting purposes, so we can plot data for exc. and inh. types separately. This function was written\n",
    "for SSCX or mouse neocortex circuits, for other models you might have to update!"
   ]
  },
  {
   "cell_type": "code",
   "execution_count": 3,
   "metadata": {},
   "outputs": [
    {
     "data": {
      "text/html": [
       "<div>\n",
       "<style scoped>\n",
       "    .dataframe tbody tr th:only-of-type {\n",
       "        vertical-align: middle;\n",
       "    }\n",
       "\n",
       "    .dataframe tbody tr th {\n",
       "        vertical-align: top;\n",
       "    }\n",
       "\n",
       "    .dataframe thead th {\n",
       "        text-align: right;\n",
       "    }\n",
       "</style>\n",
       "<table border=\"1\" class=\"dataframe\">\n",
       "  <thead>\n",
       "    <tr style=\"text-align: right;\">\n",
       "      <th></th>\n",
       "      <th>from</th>\n",
       "      <th>to</th>\n",
       "      <th>Mean (data)</th>\n",
       "      <th>Std (data)</th>\n",
       "      <th>Mean (ref.)</th>\n",
       "      <th>Std (ref.)</th>\n",
       "      <th>Error</th>\n",
       "    </tr>\n",
       "  </thead>\n",
       "  <tbody>\n",
       "    <tr>\n",
       "      <th>436</th>\n",
       "      <td>L23_BTC</td>\n",
       "      <td>L2_TPC:A</td>\n",
       "      <td>14.40</td>\n",
       "      <td>5.94</td>\n",
       "      <td>15.00</td>\n",
       "      <td>7.100</td>\n",
       "      <td>-9.202454</td>\n",
       "    </tr>\n",
       "    <tr>\n",
       "      <th>437</th>\n",
       "      <td>L23_BTC</td>\n",
       "      <td>L2_TPC:B</td>\n",
       "      <td>14.80</td>\n",
       "      <td>7.00</td>\n",
       "      <td>15.00</td>\n",
       "      <td>7.100</td>\n",
       "      <td>-2.836879</td>\n",
       "    </tr>\n",
       "    <tr>\n",
       "      <th>438</th>\n",
       "      <td>L23_BTC</td>\n",
       "      <td>L3_TPC:A</td>\n",
       "      <td>15.60</td>\n",
       "      <td>9.25</td>\n",
       "      <td>15.00</td>\n",
       "      <td>7.100</td>\n",
       "      <td>7.339450</td>\n",
       "    </tr>\n",
       "    <tr>\n",
       "      <th>439</th>\n",
       "      <td>L23_BTC</td>\n",
       "      <td>L3_TPC:C</td>\n",
       "      <td>13.70</td>\n",
       "      <td>5.51</td>\n",
       "      <td>15.00</td>\n",
       "      <td>7.100</td>\n",
       "      <td>-20.618557</td>\n",
       "    </tr>\n",
       "    <tr>\n",
       "      <th>610</th>\n",
       "      <td>L23_LBC</td>\n",
       "      <td>L23_LBC</td>\n",
       "      <td>12.30</td>\n",
       "      <td>5.34</td>\n",
       "      <td>12.33</td>\n",
       "      <td>5.558</td>\n",
       "      <td>-0.550560</td>\n",
       "    </tr>\n",
       "    <tr>\n",
       "      <th>...</th>\n",
       "      <td>...</td>\n",
       "      <td>...</td>\n",
       "      <td>...</td>\n",
       "      <td>...</td>\n",
       "      <td>...</td>\n",
       "      <td>...</td>\n",
       "      <td>...</td>\n",
       "    </tr>\n",
       "    <tr>\n",
       "      <th>2878</th>\n",
       "      <td>L6_BTC</td>\n",
       "      <td>L6_TPC:C</td>\n",
       "      <td>14.90</td>\n",
       "      <td>7.95</td>\n",
       "      <td>15.00</td>\n",
       "      <td>7.100</td>\n",
       "      <td>-1.328904</td>\n",
       "    </tr>\n",
       "    <tr>\n",
       "      <th>3477</th>\n",
       "      <td>L6_TPC:A</td>\n",
       "      <td>L6_TPC:A</td>\n",
       "      <td>4.22</td>\n",
       "      <td>2.39</td>\n",
       "      <td>4.20</td>\n",
       "      <td>0.800</td>\n",
       "      <td>1.253918</td>\n",
       "    </tr>\n",
       "    <tr>\n",
       "      <th>3478</th>\n",
       "      <td>L6_TPC:A</td>\n",
       "      <td>L6_TPC:C</td>\n",
       "      <td>3.71</td>\n",
       "      <td>1.51</td>\n",
       "      <td>4.20</td>\n",
       "      <td>0.800</td>\n",
       "      <td>-42.424242</td>\n",
       "    </tr>\n",
       "    <tr>\n",
       "      <th>3537</th>\n",
       "      <td>L6_TPC:C</td>\n",
       "      <td>L6_TPC:A</td>\n",
       "      <td>4.07</td>\n",
       "      <td>1.83</td>\n",
       "      <td>4.20</td>\n",
       "      <td>0.800</td>\n",
       "      <td>-9.885932</td>\n",
       "    </tr>\n",
       "    <tr>\n",
       "      <th>3538</th>\n",
       "      <td>L6_TPC:C</td>\n",
       "      <td>L6_TPC:C</td>\n",
       "      <td>4.15</td>\n",
       "      <td>1.63</td>\n",
       "      <td>4.20</td>\n",
       "      <td>0.800</td>\n",
       "      <td>-4.115226</td>\n",
       "    </tr>\n",
       "  </tbody>\n",
       "</table>\n",
       "<p>87 rows × 7 columns</p>\n",
       "</div>"
      ],
      "text/plain": [
       "          from        to  Mean (data)  Std (data)  Mean (ref.)  Std (ref.)  \\\n",
       "436    L23_BTC  L2_TPC:A        14.40        5.94        15.00       7.100   \n",
       "437    L23_BTC  L2_TPC:B        14.80        7.00        15.00       7.100   \n",
       "438    L23_BTC  L3_TPC:A        15.60        9.25        15.00       7.100   \n",
       "439    L23_BTC  L3_TPC:C        13.70        5.51        15.00       7.100   \n",
       "610    L23_LBC   L23_LBC        12.30        5.34        12.33       5.558   \n",
       "...        ...       ...          ...         ...          ...         ...   \n",
       "2878    L6_BTC  L6_TPC:C        14.90        7.95        15.00       7.100   \n",
       "3477  L6_TPC:A  L6_TPC:A         4.22        2.39         4.20       0.800   \n",
       "3478  L6_TPC:A  L6_TPC:C         3.71        1.51         4.20       0.800   \n",
       "3537  L6_TPC:C  L6_TPC:A         4.07        1.83         4.20       0.800   \n",
       "3538  L6_TPC:C  L6_TPC:C         4.15        1.63         4.20       0.800   \n",
       "\n",
       "          Error  \n",
       "436   -9.202454  \n",
       "437   -2.836879  \n",
       "438    7.339450  \n",
       "439  -20.618557  \n",
       "610   -0.550560  \n",
       "...         ...  \n",
       "2878  -1.328904  \n",
       "3477   1.253918  \n",
       "3478 -42.424242  \n",
       "3537  -9.885932  \n",
       "3538  -4.115226  \n",
       "\n",
       "[87 rows x 7 columns]"
      ]
     },
     "metadata": {},
     "output_type": "display_data"
    }
   ],
   "source": [
    "import pandas\n",
    "import numpy\n",
    "from matplotlib import pyplot as plt\n",
    "\n",
    "data = pandas.read_csv(fn)\n",
    "data = data.loc[~numpy.isnan(data['Error'])]\n",
    "display(data)\n",
    "\n",
    "def mtype_is_excitatory(str_m):\n",
    "    if \"PC\" in str_m:\n",
    "        return True\n",
    "    if \"SSC\" in str_m:\n",
    "        return True\n",
    "    return False"
   ]
  },
  {
   "cell_type": "markdown",
   "metadata": {},
   "source": [
    "# Plot results: Comparison to reference"
   ]
  },
  {
   "cell_type": "code",
   "execution_count": 4,
   "metadata": {},
   "outputs": [
    {
     "data": {
      "text/plain": [
       "<matplotlib.legend.Legend at 0x7f54da4e0c10>"
      ]
     },
     "execution_count": 4,
     "metadata": {},
     "output_type": "execute_result"
    },
    {
     "data": {
      "image/png": "[encoded data removed]",
      "text/plain": [
       "<Figure size 324x324 with 1 Axes>"
      ]
     },
     "metadata": {
      "needs_background": "light"
     },
     "output_type": "display_data"
    }
   ],
   "source": [
    "fig = plt.figure(figsize=(4.5, 4.5))\n",
    "ax = fig.gca()\n",
    "lbl_e = \"Exc.\"; lbl_i = \"Inh.\"\n",
    "\n",
    "for i, row in data.iterrows():\n",
    "    if i == 0:\n",
    "        col = \"green\"\n",
    "        marker = \"o\"\n",
    "        ms = 20\n",
    "        label=None\n",
    "    elif mtype_is_excitatory(row[lo_key]):\n",
    "        col = \"red\"\n",
    "        marker = \"v\"\n",
    "        ms = 10\n",
    "        label=lbl_e\n",
    "        lbl_e = None\n",
    "    else:\n",
    "        col = \"blue\"\n",
    "        marker = \"^\"\n",
    "        ms = 10\n",
    "        label=lbl_i\n",
    "        lbl_i = None\n",
    "    ax.errorbar(row[\"Mean (ref.)\"], row[\"Mean (data)\"], xerr=row[\"Std (ref.)\"], yerr=row[\"Std (data)\"],\n",
    "               color=col, marker=marker, ms=ms, lw=0.5, label=label)\n",
    "\n",
    "lims = numpy.vstack([ax.get_xlim(), ax.get_ylim()])\n",
    "lims = [numpy.min(lims[:, 0]), numpy.max(lims[:, 1])]\n",
    "ax.set_xlim(lims); ax.set_ylim(lims)\n",
    "ax.plot(lims, lims, color='grey', ls=\":\")\n",
    "ax.set_xlabel(\"Syns./connection (ref.)\")\n",
    "ax.set_ylabel(\"Syns./connection (circuit)\")\n",
    "plt.legend()"
   ]
  },
  {
   "cell_type": "markdown",
   "metadata": {},
   "source": [
    "# Plot results: Relative error"
   ]
  },
  {
   "cell_type": "code",
   "execution_count": 5,
   "metadata": {},
   "outputs": [
    {
     "data": {
      "text/plain": [
       "<matplotlib.legend.Legend at 0x7f54d80e1a00>"
      ]
     },
     "execution_count": 5,
     "metadata": {},
     "output_type": "execute_result"
    },
    {
     "data": {
      "image/png": "[encoded data removed]",
      "text/plain": [
       "<Figure size 252x252 with 1 Axes>"
      ]
     },
     "metadata": {
      "needs_background": "light"
     },
     "output_type": "display_data"
    }
   ],
   "source": [
    "error_bins = numpy.linspace(numpy.nanmin(data[\"Error\"]),\n",
    "                            numpy.nanmax(data[\"Error\"]), 21)\n",
    "bin_centers = 0.5 * (error_bins[:-1] + error_bins[1:])\n",
    "w = error_bins[1] - error_bins[0]\n",
    "lbl_e = \"Exc.\"; lbl_i = \"Inh.\"\n",
    "\n",
    "is_exc = data[lo_key].apply(mtype_is_excitatory)\n",
    "H_exc = numpy.histogram(data[\"Error\"][is_exc], bins=error_bins)[0]\n",
    "H_inh = numpy.histogram(data[\"Error\"][~is_exc], bins=error_bins)[0]\n",
    "\n",
    "fig = plt.figure(figsize=(3.5, 3.5))\n",
    "ax = fig.gca()\n",
    "\n",
    "for x, y1, y2 in zip(bin_centers, H_exc, H_inh):\n",
    "    if y1 > y2:\n",
    "        ax.bar(x, y1, color='red', width=w, label=lbl_e)\n",
    "        ax.bar(x, y2, color='blue', width=w, label=lbl_i)\n",
    "    else:\n",
    "        ax.bar(x, y2, color='blue', width=w, label=lbl_i)\n",
    "        ax.bar(x, y1, color='red', width=w, label=lbl_e)\n",
    "    lbl_e = None; lbl_i = None\n",
    "\n",
    "ax.set_xlabel(\"Error (% std.)\")\n",
    "ax.set_ylabel(\"Count\")\n",
    "plt.legend()"
   ]
  },
  {
   "cell_type": "code",
   "execution_count": null,
   "metadata": {},
   "outputs": [],
   "source": []
  }
 ],
 "metadata": {
  "kernelspec": {
   "display_name": "Python3 (scripts)",
   "language": "python",
   "name": "scripts"
  },
  "language_info": {
   "codemirror_mode": {
    "name": "ipython",
    "version": 3
   },
   "file_extension": ".py",
   "mimetype": "text/x-python",
   "name": "python",
   "nbconvert_exporter": "python",
   "pygments_lexer": "ipython3",
   "version": "3.8.5"
  }
 },
 "nbformat": 4,
 "nbformat_minor": 4
}
