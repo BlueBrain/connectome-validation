{
 "cells": [
  {
   "cell_type": "code",
   "execution_count": 1,
   "metadata": {},
   "outputs": [
    {
     "data": {
      "text/html": [
       "<div>\n",
       "<style scoped>\n",
       "    .dataframe tbody tr th:only-of-type {\n",
       "        vertical-align: middle;\n",
       "    }\n",
       "\n",
       "    .dataframe tbody tr th {\n",
       "        vertical-align: top;\n",
       "    }\n",
       "\n",
       "    .dataframe thead th {\n",
       "        text-align: right;\n",
       "    }\n",
       "</style>\n",
       "<table border=\"1\" class=\"dataframe\">\n",
       "  <thead>\n",
       "    <tr style=\"text-align: right;\">\n",
       "      <th></th>\n",
       "      <th>Unnamed: 0</th>\n",
       "      <th>Density</th>\n",
       "      <th>Length</th>\n",
       "    </tr>\n",
       "  </thead>\n",
       "  <tbody>\n",
       "    <tr>\n",
       "      <th>0</th>\n",
       "      <td>0</td>\n",
       "      <td>0.107619</td>\n",
       "      <td>24252.244065</td>\n",
       "    </tr>\n",
       "    <tr>\n",
       "      <th>1</th>\n",
       "      <td>1</td>\n",
       "      <td>0.112923</td>\n",
       "      <td>14319.508430</td>\n",
       "    </tr>\n",
       "    <tr>\n",
       "      <th>2</th>\n",
       "      <td>2</td>\n",
       "      <td>0.153142</td>\n",
       "      <td>16873.199537</td>\n",
       "    </tr>\n",
       "    <tr>\n",
       "      <th>3</th>\n",
       "      <td>3</td>\n",
       "      <td>0.071238</td>\n",
       "      <td>5825.513056</td>\n",
       "    </tr>\n",
       "    <tr>\n",
       "      <th>4</th>\n",
       "      <td>4</td>\n",
       "      <td>0.084815</td>\n",
       "      <td>14360.701617</td>\n",
       "    </tr>\n",
       "    <tr>\n",
       "      <th>...</th>\n",
       "      <td>...</td>\n",
       "      <td>...</td>\n",
       "      <td>...</td>\n",
       "    </tr>\n",
       "    <tr>\n",
       "      <th>995</th>\n",
       "      <td>995</td>\n",
       "      <td>0.266563</td>\n",
       "      <td>55596.527689</td>\n",
       "    </tr>\n",
       "    <tr>\n",
       "      <th>996</th>\n",
       "      <td>996</td>\n",
       "      <td>0.114843</td>\n",
       "      <td>25722.098441</td>\n",
       "    </tr>\n",
       "    <tr>\n",
       "      <th>997</th>\n",
       "      <td>997</td>\n",
       "      <td>0.140336</td>\n",
       "      <td>15990.145546</td>\n",
       "    </tr>\n",
       "    <tr>\n",
       "      <th>998</th>\n",
       "      <td>998</td>\n",
       "      <td>0.144061</td>\n",
       "      <td>20171.959899</td>\n",
       "    </tr>\n",
       "    <tr>\n",
       "      <th>999</th>\n",
       "      <td>999</td>\n",
       "      <td>0.136522</td>\n",
       "      <td>21146.818294</td>\n",
       "    </tr>\n",
       "  </tbody>\n",
       "</table>\n",
       "<p>1000 rows × 3 columns</p>\n",
       "</div>"
      ],
      "text/plain": [
       "     Unnamed: 0   Density        Length\n",
       "0             0  0.107619  24252.244065\n",
       "1             1  0.112923  14319.508430\n",
       "2             2  0.153142  16873.199537\n",
       "3             3  0.071238   5825.513056\n",
       "4             4  0.084815  14360.701617\n",
       "..          ...       ...           ...\n",
       "995         995  0.266563  55596.527689\n",
       "996         996  0.114843  25722.098441\n",
       "997         997  0.140336  15990.145546\n",
       "998         998  0.144061  20171.959899\n",
       "999         999  0.136522  21146.818294\n",
       "\n",
       "[1000 rows x 3 columns]"
      ]
     },
     "metadata": {},
     "output_type": "display_data"
    }
   ],
   "source": [
    "import pandas\n",
    "from matplotlib import pyplot as plt\n",
    "\n",
    "data_fn = \"/home/reimann/Documents/data/SSCX/validation/bd_vs_length_MC.csv\"\n",
    "\n",
    "data = pandas.read_csv(data_fn)\n",
    "\n",
    "display(data)"
   ]
  },
  {
   "cell_type": "code",
   "execution_count": 10,
   "metadata": {},
   "outputs": [
    {
     "data": {
      "text/plain": [
       "<matplotlib.legend.Legend at 0x7fb155275ac0>"
      ]
     },
     "execution_count": 10,
     "metadata": {},
     "output_type": "execute_result"
    },
    {
     "data": {
      "image/png": "[encoded data removed]",
      "text/plain": [
       "<Figure size 432x288 with 1 Axes>"
      ]
     },
     "metadata": {
      "needs_background": "light"
     },
     "output_type": "display_data"
    }
   ],
   "source": [
    "ax = plt.gca()\n",
    "ax.plot(data[\"Length\"], data[\"Density\"], '.')\n",
    "ax.set_xlabel(\"Axon length (um)\")\n",
    "ax.set_ylabel(\"Bouton density (/um)\")\n",
    "ax.set_title(\"L5_MC\")\n",
    "\n",
    "mn_a = data[\"Density\"].mean()\n",
    "mn_b = (data[\"Density\"] * data[\"Length\"]).sum() / data[\"Length\"].sum()\n",
    "mn_bio = 0.18\n",
    "\n",
    "ax.plot([5000, 55000], [mn_a, mn_a], ls='--', color='grey', label=\"Mean over neurons\")\n",
    "ax.plot([5000, 55000], [mn_b, mn_b], ls='--', color='teal', label=\"Mean over axon length\")\n",
    "ax.plot([5000, 55000], [mn_bio, mn_bio], ls=':', color='red', label=\"Biological mean\")\n",
    "plt.legend()"
   ]
  },
  {
   "cell_type": "code",
   "execution_count": null,
   "metadata": {},
   "outputs": [],
   "source": []
  }
 ],
 "metadata": {
  "kernelspec": {
   "display_name": "Python3 (scripts)",
   "language": "python",
   "name": "scripts"
  },
  "language_info": {
   "codemirror_mode": {
    "name": "ipython",
    "version": 3
   },
   "file_extension": ".py",
   "mimetype": "text/x-python",
   "name": "python",
   "nbconvert_exporter": "python",
   "pygments_lexer": "ipython3",
   "version": "3.8.5"
  }
 },
 "nbformat": 4,
 "nbformat_minor": 4
}
